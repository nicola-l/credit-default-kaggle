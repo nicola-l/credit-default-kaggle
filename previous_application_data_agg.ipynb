{
 "cells": [
  {
   "cell_type": "code",
   "execution_count": 5,
   "metadata": {},
   "outputs": [],
   "source": [
    "import pandas as pd\n",
    "import numpy as np\n",
    "# from sklearn import feature_selection\n",
    "\n",
    "# # Visualization\n",
    "# import matplotlib.pyplot as plt\n",
    "# import seaborn as sns\n"
   ]
  },
  {
   "cell_type": "code",
   "execution_count": 7,
   "metadata": {},
   "outputs": [],
   "source": [
    "application = pd.read_csv('./src/application_train.csv')"
   ]
  },
  {
   "cell_type": "code",
   "execution_count": 8,
   "metadata": {},
   "outputs": [],
   "source": [
    "previous_application = pd.read_csv('./src/previous_application.csv')"
   ]
  },
  {
   "cell_type": "code",
   "execution_count": null,
   "metadata": {},
   "outputs": [],
   "source": [
    "prev_count_inputs = [\n",
    "    'NAME_CONTRACT_TYPE',\n",
    "    'WEEKDAY_APPR_PROCESS_START',\n",
    "    'FLAG_LAST_APPL_PER_CONTRACT',\n",
    "    'NFLAG_LAST_APPL_IN_DAY',\n",
    "    'NAME_CASH_LOAN_PURPOSE',\n",
    "    'NAME_CONTRACT_STATUS',\n",
    "    'NAME_PAYMENT_TYPE',\n",
    "    'CODE_REJECT_REASON',\n",
    "    'NAME_TYPE_SUITE',\n",
    "    'NAME_CLIENT_TYPE',\n",
    "    'NAME_GOODS_CATEGORY',\n",
    "    'NAME_PORTFOLIO',\n",
    "    'NAME_PRODUCT_TYPE',\n",
    "    'CHANNEL_TYPE',\n",
    "    'NAME_SELLER_INDUSTRY',\n",
    "    'NAME_YIELD_GROUP',\n",
    "    'PRODUCT_COMBINATION',\n",
    "    'NFLAG_INSURED_ON_APPROVAL'\n",
    "]"
   ]
  },
  {
   "cell_type": "code",
   "execution_count": 87,
   "metadata": {},
   "outputs": [],
   "source": [
    "def prev_count(previous_application, col):\n",
    "    # Count the number of each type of [col] information for loans previously applied\n",
    "    dum = pd.get_dummies(previous_application[col]).astype(int)\n",
    "    dum.columns = ['PREV_' + str(col) + '_' + str(col_name) for col_name in dum.columns]\n",
    "\n",
    "    return previous_application.loc[:, ['SK_ID_CURR', ]].join(dum).groupby('SK_ID_CURR').sum().reindex(application['SK_ID_CURR']).fillna(0)"
   ]
  },
  {
   "cell_type": "code",
   "execution_count": null,
   "metadata": {},
   "outputs": [],
   "source": [
    "prev_sum_inputs = [\n",
    "    'AMT_ANNUITY',\n",
    "    'AMT_APPLICATION',\n",
    "    'AMT_CREDIT',\n",
    "    'AMT_DOWN_PAYMENT'\n",
    "    'AMT_GOODS_PRICE'\n",
    "]"
   ]
  },
  {
   "cell_type": "code",
   "execution_count": 32,
   "metadata": {},
   "outputs": [],
   "source": [
    "def prev_sum(previous_application, col):\n",
    "    # Total amount of [col] information for loans previously applied\n",
    "    dum = previous_application.loc[:, [col]]\n",
    "    dum.columns = ['PREV_' + str(col_name) for col_name in dum.columns]\n",
    "    return previous_application.loc[:, ['SK_ID_CURR', ]].join(dum).groupby('SK_ID_CURR').sum().reindex(application['SK_ID_CURR']).fillna(0)\n",
    "    # return previous_application.groupby('SK_ID_CURR')[col].sum().reindex(application['SK_ID_CURR']).fillna(0).rename('PREV_' + str(col))"
   ]
  },
  {
   "cell_type": "code",
   "execution_count": 82,
   "metadata": {},
   "outputs": [],
   "source": [
    "def prev_hour_process(previous_application):\n",
    "    # Count the number processes started during each quadrant of the day for loans previously applied\n",
    "    dum = pd.get_dummies(previous_application['HOUR_APPR_PROCESS_START']).astype(int)\n",
    "    first_quad = np.arange(0, 6)\n",
    "    second_quad = np.arange(6, 12)\n",
    "    third_quad = np.arange(12, 18)\n",
    "    fourth_quad = np.arange(18, 24)\n",
    "    dum['HOUR_APPR_PROCESS_START_FIRST_QUAD'] = 0\n",
    "    dum['HOUR_APPR_PROCESS_START_SECOND_QUAD'] = 0\n",
    "    dum['HOUR_APPR_PROCESS_START_THIRD_QUAD'] = 0\n",
    "    dum['HOUR_APPR_PROCESS_START_FOURTH_QUAD'] = 0\n",
    "    for hour in first_quad:\n",
    "        dum['HOUR_APPR_PROCESS_START_FIRST_QUAD'] += dum[hour]\n",
    "    for hour in second_quad:\n",
    "        dum['HOUR_APPR_PROCESS_START_SECOND_QUAD'] += dum[hour]\n",
    "    for hour in third_quad:\n",
    "        dum['HOUR_APPR_PROCESS_START_THIRD_QUAD'] += dum[hour]\n",
    "    for hour in fourth_quad:\n",
    "        dum['HOUR_APPR_PROCESS_START_FOURTH_QUAD'] += dum[hour]\n",
    "    dum = dum.loc[:, ['HOUR_APPR_PROCESS_START_FIRST_QUAD', 'HOUR_APPR_PROCESS_START_SECOND_QUAD', 'HOUR_APPR_PROCESS_START_THIRD_QUAD', 'HOUR_APPR_PROCESS_START_FOURTH_QUAD']]\n",
    "    dum.columns = ['PREV_' + str(col_name) for col_name in dum.columns]\n",
    "\n",
    "    return previous_application.loc[:, ['SK_ID_CURR', ]].join(dum).groupby('SK_ID_CURR').sum().reindex(application['SK_ID_CURR']).fillna(0)"
   ]
  },
  {
   "cell_type": "code",
   "execution_count": 122,
   "metadata": {},
   "outputs": [],
   "source": [
    "def prev_cnt_payment(previous_application):\n",
    "    # Count the number of previous loans that had a certain term (in number of years)\n",
    "    dum = pd.get_dummies(previous_application['CNT_PAYMENT']).astype(int)\n",
    "    one_yr = np.arange(0, 12)\n",
    "    two_yr = np.arange(12, 24)\n",
    "    three_yr = np.arange(24, 36)\n",
    "    four_yr = np.arange(36, 48)\n",
    "    five_yr = np.arange(48, 60)\n",
    "    six_yr = np.arange(60, 72)\n",
    "    seven_yr = np.arange(72, 85)\n",
    "    terms = [one_yr, two_yr, three_yr, four_yr, five_yr, six_yr, seven_yr]\n",
    "    for i in range(len(terms)):\n",
    "        dum['CNT_PAYMENT_{}_YR'.format(i+1)] = 0\n",
    "        for month in terms[i]:\n",
    "            if month in dum:\n",
    "                dum['CNT_PAYMENT_{}_YR'.format(i+1)] += dum[month]\n",
    "\n",
    "    dum = dum.loc[:, ['CNT_PAYMENT_1_YR', 'CNT_PAYMENT_2_YR', 'CNT_PAYMENT_3_YR', 'CNT_PAYMENT_4_YR', 'CNT_PAYMENT_5_YR', 'CNT_PAYMENT_6_YR', 'CNT_PAYMENT_7_YR', ]]\n",
    "    dum.columns = ['PREV_' + str(col_name) for col_name in dum.columns]\n",
    "\n",
    "    return previous_application.loc[:, ['SK_ID_CURR', ]].join(dum).groupby('SK_ID_CURR').sum().reindex(application['SK_ID_CURR']).fillna(0)"
   ]
  },
  {
   "cell_type": "code",
   "execution_count": null,
   "metadata": {},
   "outputs": [],
   "source": [
    "prev_avg_inputs = [\n",
    "    'RATE_DOWN_PAYMENT',\n",
    "    'RATE_INTEREST_PRIMARY',\n",
    "    'RATE_INTEREST_PRIVILEGED'\n",
    "]"
   ]
  },
  {
   "cell_type": "code",
   "execution_count": 92,
   "metadata": {},
   "outputs": [],
   "source": [
    "def prev_avg(previous_application, col):\n",
    "    # Average of [col] information for loans previously applied\n",
    "    dum = previous_application.loc[:, [col]]\n",
    "    dum.columns = ['PREV_' + str(col_name) for col_name in dum.columns]\n",
    "    return previous_application.loc[:, ['SK_ID_CURR', ]].join(dum).groupby('SK_ID_CURR').mean().reindex(application['SK_ID_CURR']).fillna(0)"
   ]
  },
  {
   "cell_type": "code",
   "execution_count": null,
   "metadata": {},
   "outputs": [],
   "source": [
    "pre_earliest_latest_inputs = [\n",
    "    'DAYS_DECISION',\n",
    "    'DAYS_FIRST_DRAWING',\n",
    "    'DAYS_FIRST_DUE',\n",
    "    'DAYS_LAST_DUE_1ST_VERSION',\n",
    "    'DAYS_LAST_DUE',\n",
    "    'DAYS_TERMINATION'\n",
    "]"
   ]
  },
  {
   "cell_type": "code",
   "execution_count": 105,
   "metadata": {},
   "outputs": [],
   "source": [
    "def earliest_starting(previous_application, col):\n",
    "    dum = previous_application.loc[:, [col]]\n",
    "    dum.columns = ['PREV_' + str(col_name) + '_FIRST' for col_name in dum.columns]\n",
    "    return previous_application.loc[:, ['SK_ID_CURR', ]].join(dum).groupby('SK_ID_CURR').min().abs().reindex(application['SK_ID_CURR']).fillna(0)\n",
    "\n",
    "def latest_starting(previous_application, col):\n",
    "    dum = previous_application.loc[:, [col]]\n",
    "    dum.columns = ['PREV_' + str(col_name) + '_LAST' for col_name in dum.columns]\n",
    "    return previous_application.loc[:, ['SK_ID_CURR', ]].join(dum).groupby('SK_ID_CURR').max().abs().reindex(application['SK_ID_CURR']).fillna(0)\n"
   ]
  }
 ],
 "metadata": {
  "kernelspec": {
   "display_name": "Python 3",
   "language": "python",
   "name": "python3"
  },
  "language_info": {
   "codemirror_mode": {
    "name": "ipython",
    "version": 3
   },
   "file_extension": ".py",
   "mimetype": "text/x-python",
   "name": "python",
   "nbconvert_exporter": "python",
   "pygments_lexer": "ipython3",
   "version": "3.11.7"
  }
 },
 "nbformat": 4,
 "nbformat_minor": 2
}
